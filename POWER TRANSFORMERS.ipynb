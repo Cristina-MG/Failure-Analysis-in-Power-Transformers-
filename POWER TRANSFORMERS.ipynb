{
 "cells": [
  {
   "cell_type": "markdown",
   "id": "demanding-cardiff",
   "metadata": {},
   "source": [
    "# Failure Analysis in Power Transformers"
   ]
  },
  {
   "cell_type": "markdown",
   "id": "handmade-cassette",
   "metadata": {},
   "source": [
    "A transformer can fail for a variety of reasons, but the most common causes include lightning strikes, overloading, wear and corrosion, power surges, and moisture. Regardless of the cause, the result can be remarkable. Transformers contain mineral oil keeping the transformer cool. When it becomes overcharged, the wiring can create heat and a spark. This massive overpressure may eventually cause the transformer to rupture with a loud boom, flash, and possibly a fireball that can create a large plume of smoke that can be seen from a long distance.\n",
    "\n",
    "Reference : https://www.kaggle.com/shashwatwork/failure-analysis-in-power-transformers-dataset"
   ]
  },
  {
   "cell_type": "code",
   "execution_count": 76,
   "id": "disabled-apollo",
   "metadata": {
    "ExecuteTime": {
     "end_time": "2021-08-12T19:26:04.932101Z",
     "start_time": "2021-08-12T19:26:04.925383Z"
    }
   },
   "outputs": [],
   "source": [
    "import pandas as pd \n",
    "import numpy as np \n",
    "import matplotlib.pyplot as plt \n",
    "import seaborn as sns\n",
    "\n",
    "import warnings\n",
    "warnings.filterwarnings(\"ignore\")\n",
    "from scipy import stats"
   ]
  },
  {
   "cell_type": "code",
   "execution_count": 136,
   "id": "relative-subscription",
   "metadata": {
    "ExecuteTime": {
     "end_time": "2021-08-12T19:46:52.379339Z",
     "start_time": "2021-08-12T19:46:52.367191Z"
    }
   },
   "outputs": [],
   "source": [
    "df = pd.read_csv('Health index1.csv')"
   ]
  },
  {
   "cell_type": "code",
   "execution_count": 93,
   "id": "treated-soviet",
   "metadata": {
    "ExecuteTime": {
     "end_time": "2021-08-12T19:29:09.396686Z",
     "start_time": "2021-08-12T19:29:09.376877Z"
    },
    "scrolled": true
   },
   "outputs": [
    {
     "data": {
      "text/html": [
       "<div>\n",
       "<style scoped>\n",
       "    .dataframe tbody tr th:only-of-type {\n",
       "        vertical-align: middle;\n",
       "    }\n",
       "\n",
       "    .dataframe tbody tr th {\n",
       "        vertical-align: top;\n",
       "    }\n",
       "\n",
       "    .dataframe thead th {\n",
       "        text-align: right;\n",
       "    }\n",
       "</style>\n",
       "<table border=\"1\" class=\"dataframe\">\n",
       "  <thead>\n",
       "    <tr style=\"text-align: right;\">\n",
       "      <th></th>\n",
       "      <th>Hydrogen</th>\n",
       "      <th>Oxigen</th>\n",
       "      <th>Nitrogen</th>\n",
       "      <th>Methane</th>\n",
       "      <th>CO</th>\n",
       "      <th>CO2</th>\n",
       "      <th>Ethylene</th>\n",
       "      <th>Ethane</th>\n",
       "      <th>Acethylene</th>\n",
       "      <th>DBDS</th>\n",
       "      <th>Power factor</th>\n",
       "      <th>Interfacial V</th>\n",
       "      <th>Dielectric rigidity</th>\n",
       "      <th>Water content</th>\n",
       "      <th>Health index</th>\n",
       "      <th>Life expectation</th>\n",
       "    </tr>\n",
       "  </thead>\n",
       "  <tbody>\n",
       "    <tr>\n",
       "      <th>0</th>\n",
       "      <td>2845</td>\n",
       "      <td>5860</td>\n",
       "      <td>27842</td>\n",
       "      <td>7406</td>\n",
       "      <td>32</td>\n",
       "      <td>1344</td>\n",
       "      <td>16684</td>\n",
       "      <td>5467</td>\n",
       "      <td>7</td>\n",
       "      <td>19.0</td>\n",
       "      <td>1.00</td>\n",
       "      <td>45</td>\n",
       "      <td>55</td>\n",
       "      <td>0</td>\n",
       "      <td>95.2</td>\n",
       "      <td>19.0</td>\n",
       "    </tr>\n",
       "    <tr>\n",
       "      <th>1</th>\n",
       "      <td>12886</td>\n",
       "      <td>61</td>\n",
       "      <td>25041</td>\n",
       "      <td>877</td>\n",
       "      <td>83</td>\n",
       "      <td>864</td>\n",
       "      <td>4</td>\n",
       "      <td>305</td>\n",
       "      <td>0</td>\n",
       "      <td>45.0</td>\n",
       "      <td>1.00</td>\n",
       "      <td>45</td>\n",
       "      <td>55</td>\n",
       "      <td>0</td>\n",
       "      <td>85.5</td>\n",
       "      <td>19.0</td>\n",
       "    </tr>\n",
       "    <tr>\n",
       "      <th>2</th>\n",
       "      <td>2820</td>\n",
       "      <td>16400</td>\n",
       "      <td>56300</td>\n",
       "      <td>144</td>\n",
       "      <td>257</td>\n",
       "      <td>1080</td>\n",
       "      <td>206</td>\n",
       "      <td>11</td>\n",
       "      <td>2190</td>\n",
       "      <td>1.0</td>\n",
       "      <td>1.00</td>\n",
       "      <td>39</td>\n",
       "      <td>52</td>\n",
       "      <td>11</td>\n",
       "      <td>85.3</td>\n",
       "      <td>19.0</td>\n",
       "    </tr>\n",
       "    <tr>\n",
       "      <th>3</th>\n",
       "      <td>1099</td>\n",
       "      <td>70</td>\n",
       "      <td>37520</td>\n",
       "      <td>545</td>\n",
       "      <td>184</td>\n",
       "      <td>1402</td>\n",
       "      <td>6</td>\n",
       "      <td>230</td>\n",
       "      <td>0</td>\n",
       "      <td>87.0</td>\n",
       "      <td>4.58</td>\n",
       "      <td>33</td>\n",
       "      <td>49</td>\n",
       "      <td>5</td>\n",
       "      <td>85.3</td>\n",
       "      <td>6.0</td>\n",
       "    </tr>\n",
       "    <tr>\n",
       "      <th>4</th>\n",
       "      <td>3210</td>\n",
       "      <td>3570</td>\n",
       "      <td>47900</td>\n",
       "      <td>160</td>\n",
       "      <td>360</td>\n",
       "      <td>2130</td>\n",
       "      <td>4</td>\n",
       "      <td>43</td>\n",
       "      <td>4</td>\n",
       "      <td>1.0</td>\n",
       "      <td>0.77</td>\n",
       "      <td>44</td>\n",
       "      <td>55</td>\n",
       "      <td>3</td>\n",
       "      <td>85.2</td>\n",
       "      <td>6.0</td>\n",
       "    </tr>\n",
       "  </tbody>\n",
       "</table>\n",
       "</div>"
      ],
      "text/plain": [
       "   Hydrogen  Oxigen  Nitrogen  Methane   CO   CO2  Ethylene  Ethane  \\\n",
       "0      2845    5860     27842     7406   32  1344     16684    5467   \n",
       "1     12886      61     25041      877   83   864         4     305   \n",
       "2      2820   16400     56300      144  257  1080       206      11   \n",
       "3      1099      70     37520      545  184  1402         6     230   \n",
       "4      3210    3570     47900      160  360  2130         4      43   \n",
       "\n",
       "   Acethylene  DBDS  Power factor  Interfacial V  Dielectric rigidity  \\\n",
       "0           7  19.0          1.00             45                   55   \n",
       "1           0  45.0          1.00             45                   55   \n",
       "2        2190   1.0          1.00             39                   52   \n",
       "3           0  87.0          4.58             33                   49   \n",
       "4           4   1.0          0.77             44                   55   \n",
       "\n",
       "   Water content  Health index  Life expectation  \n",
       "0              0          95.2              19.0  \n",
       "1              0          85.5              19.0  \n",
       "2             11          85.3              19.0  \n",
       "3              5          85.3               6.0  \n",
       "4              3          85.2               6.0  "
      ]
     },
     "execution_count": 93,
     "metadata": {},
     "output_type": "execute_result"
    }
   ],
   "source": [
    "df.head()"
   ]
  },
  {
   "cell_type": "code",
   "execution_count": 94,
   "id": "sunrise-piece",
   "metadata": {
    "ExecuteTime": {
     "end_time": "2021-08-12T19:29:10.950397Z",
     "start_time": "2021-08-12T19:29:10.876728Z"
    }
   },
   "outputs": [
    {
     "data": {
      "text/html": [
       "<div>\n",
       "<style scoped>\n",
       "    .dataframe tbody tr th:only-of-type {\n",
       "        vertical-align: middle;\n",
       "    }\n",
       "\n",
       "    .dataframe tbody tr th {\n",
       "        vertical-align: top;\n",
       "    }\n",
       "\n",
       "    .dataframe thead th {\n",
       "        text-align: right;\n",
       "    }\n",
       "</style>\n",
       "<table border=\"1\" class=\"dataframe\">\n",
       "  <thead>\n",
       "    <tr style=\"text-align: right;\">\n",
       "      <th></th>\n",
       "      <th>count</th>\n",
       "      <th>mean</th>\n",
       "      <th>std</th>\n",
       "      <th>min</th>\n",
       "      <th>25%</th>\n",
       "      <th>50%</th>\n",
       "      <th>75%</th>\n",
       "      <th>max</th>\n",
       "    </tr>\n",
       "  </thead>\n",
       "  <tbody>\n",
       "    <tr>\n",
       "      <th>Hydrogen</th>\n",
       "      <td>470.0</td>\n",
       "      <td>404.261702</td>\n",
       "      <td>2002.142678</td>\n",
       "      <td>0.00</td>\n",
       "      <td>4.00</td>\n",
       "      <td>9.0</td>\n",
       "      <td>34.00</td>\n",
       "      <td>23349.0</td>\n",
       "    </tr>\n",
       "    <tr>\n",
       "      <th>Oxigen</th>\n",
       "      <td>470.0</td>\n",
       "      <td>8357.372340</td>\n",
       "      <td>14164.233283</td>\n",
       "      <td>57.00</td>\n",
       "      <td>496.00</td>\n",
       "      <td>3810.0</td>\n",
       "      <td>14875.00</td>\n",
       "      <td>249900.0</td>\n",
       "    </tr>\n",
       "    <tr>\n",
       "      <th>Nitrogen</th>\n",
       "      <td>470.0</td>\n",
       "      <td>47759.561702</td>\n",
       "      <td>13760.451816</td>\n",
       "      <td>3600.00</td>\n",
       "      <td>41700.00</td>\n",
       "      <td>49100.0</td>\n",
       "      <td>55875.00</td>\n",
       "      <td>85300.0</td>\n",
       "    </tr>\n",
       "    <tr>\n",
       "      <th>Methane</th>\n",
       "      <td>470.0</td>\n",
       "      <td>79.695745</td>\n",
       "      <td>489.320336</td>\n",
       "      <td>0.00</td>\n",
       "      <td>2.00</td>\n",
       "      <td>3.0</td>\n",
       "      <td>7.00</td>\n",
       "      <td>7406.0</td>\n",
       "    </tr>\n",
       "    <tr>\n",
       "      <th>CO</th>\n",
       "      <td>470.0</td>\n",
       "      <td>244.000000</td>\n",
       "      <td>237.267485</td>\n",
       "      <td>10.00</td>\n",
       "      <td>66.00</td>\n",
       "      <td>150.5</td>\n",
       "      <td>361.75</td>\n",
       "      <td>1730.0</td>\n",
       "    </tr>\n",
       "    <tr>\n",
       "      <th>CO2</th>\n",
       "      <td>470.0</td>\n",
       "      <td>1816.414894</td>\n",
       "      <td>2256.790519</td>\n",
       "      <td>48.00</td>\n",
       "      <td>641.75</td>\n",
       "      <td>1125.0</td>\n",
       "      <td>2257.50</td>\n",
       "      <td>24900.0</td>\n",
       "    </tr>\n",
       "    <tr>\n",
       "      <th>Ethylene</th>\n",
       "      <td>470.0</td>\n",
       "      <td>162.923404</td>\n",
       "      <td>1323.811504</td>\n",
       "      <td>0.00</td>\n",
       "      <td>0.00</td>\n",
       "      <td>3.0</td>\n",
       "      <td>6.00</td>\n",
       "      <td>16684.0</td>\n",
       "    </tr>\n",
       "    <tr>\n",
       "      <th>Ethane</th>\n",
       "      <td>470.0</td>\n",
       "      <td>81.940426</td>\n",
       "      <td>342.573636</td>\n",
       "      <td>0.00</td>\n",
       "      <td>0.00</td>\n",
       "      <td>4.0</td>\n",
       "      <td>69.75</td>\n",
       "      <td>5467.0</td>\n",
       "    </tr>\n",
       "    <tr>\n",
       "      <th>Acethylene</th>\n",
       "      <td>470.0</td>\n",
       "      <td>91.491489</td>\n",
       "      <td>644.365828</td>\n",
       "      <td>0.00</td>\n",
       "      <td>0.00</td>\n",
       "      <td>0.0</td>\n",
       "      <td>0.00</td>\n",
       "      <td>9740.0</td>\n",
       "    </tr>\n",
       "    <tr>\n",
       "      <th>DBDS</th>\n",
       "      <td>470.0</td>\n",
       "      <td>17.036596</td>\n",
       "      <td>46.735057</td>\n",
       "      <td>0.00</td>\n",
       "      <td>0.00</td>\n",
       "      <td>0.0</td>\n",
       "      <td>2.00</td>\n",
       "      <td>227.0</td>\n",
       "    </tr>\n",
       "    <tr>\n",
       "      <th>Power factor</th>\n",
       "      <td>470.0</td>\n",
       "      <td>1.849043</td>\n",
       "      <td>6.144009</td>\n",
       "      <td>0.05</td>\n",
       "      <td>0.57</td>\n",
       "      <td>1.0</td>\n",
       "      <td>1.00</td>\n",
       "      <td>73.2</td>\n",
       "    </tr>\n",
       "    <tr>\n",
       "      <th>Interfacial V</th>\n",
       "      <td>470.0</td>\n",
       "      <td>38.434043</td>\n",
       "      <td>6.178830</td>\n",
       "      <td>21.00</td>\n",
       "      <td>32.00</td>\n",
       "      <td>39.0</td>\n",
       "      <td>44.00</td>\n",
       "      <td>57.0</td>\n",
       "    </tr>\n",
       "    <tr>\n",
       "      <th>Dielectric rigidity</th>\n",
       "      <td>470.0</td>\n",
       "      <td>53.495745</td>\n",
       "      <td>6.458906</td>\n",
       "      <td>27.00</td>\n",
       "      <td>51.00</td>\n",
       "      <td>54.0</td>\n",
       "      <td>56.00</td>\n",
       "      <td>75.0</td>\n",
       "    </tr>\n",
       "    <tr>\n",
       "      <th>Water content</th>\n",
       "      <td>470.0</td>\n",
       "      <td>16.282979</td>\n",
       "      <td>17.115646</td>\n",
       "      <td>0.00</td>\n",
       "      <td>5.00</td>\n",
       "      <td>12.0</td>\n",
       "      <td>21.00</td>\n",
       "      <td>183.0</td>\n",
       "    </tr>\n",
       "    <tr>\n",
       "      <th>Health index</th>\n",
       "      <td>470.0</td>\n",
       "      <td>27.504043</td>\n",
       "      <td>17.741458</td>\n",
       "      <td>13.40</td>\n",
       "      <td>13.40</td>\n",
       "      <td>13.4</td>\n",
       "      <td>38.55</td>\n",
       "      <td>95.2</td>\n",
       "    </tr>\n",
       "    <tr>\n",
       "      <th>Life expectation</th>\n",
       "      <td>470.0</td>\n",
       "      <td>33.010426</td>\n",
       "      <td>17.791047</td>\n",
       "      <td>6.00</td>\n",
       "      <td>19.00</td>\n",
       "      <td>32.0</td>\n",
       "      <td>51.00</td>\n",
       "      <td>51.0</td>\n",
       "    </tr>\n",
       "  </tbody>\n",
       "</table>\n",
       "</div>"
      ],
      "text/plain": [
       "                     count          mean           std      min       25%  \\\n",
       "Hydrogen             470.0    404.261702   2002.142678     0.00      4.00   \n",
       "Oxigen               470.0   8357.372340  14164.233283    57.00    496.00   \n",
       "Nitrogen             470.0  47759.561702  13760.451816  3600.00  41700.00   \n",
       "Methane              470.0     79.695745    489.320336     0.00      2.00   \n",
       "CO                   470.0    244.000000    237.267485    10.00     66.00   \n",
       "CO2                  470.0   1816.414894   2256.790519    48.00    641.75   \n",
       "Ethylene             470.0    162.923404   1323.811504     0.00      0.00   \n",
       "Ethane               470.0     81.940426    342.573636     0.00      0.00   \n",
       "Acethylene           470.0     91.491489    644.365828     0.00      0.00   \n",
       "DBDS                 470.0     17.036596     46.735057     0.00      0.00   \n",
       "Power factor         470.0      1.849043      6.144009     0.05      0.57   \n",
       "Interfacial V        470.0     38.434043      6.178830    21.00     32.00   \n",
       "Dielectric rigidity  470.0     53.495745      6.458906    27.00     51.00   \n",
       "Water content        470.0     16.282979     17.115646     0.00      5.00   \n",
       "Health index         470.0     27.504043     17.741458    13.40     13.40   \n",
       "Life expectation     470.0     33.010426     17.791047     6.00     19.00   \n",
       "\n",
       "                         50%       75%       max  \n",
       "Hydrogen                 9.0     34.00   23349.0  \n",
       "Oxigen                3810.0  14875.00  249900.0  \n",
       "Nitrogen             49100.0  55875.00   85300.0  \n",
       "Methane                  3.0      7.00    7406.0  \n",
       "CO                     150.5    361.75    1730.0  \n",
       "CO2                   1125.0   2257.50   24900.0  \n",
       "Ethylene                 3.0      6.00   16684.0  \n",
       "Ethane                   4.0     69.75    5467.0  \n",
       "Acethylene               0.0      0.00    9740.0  \n",
       "DBDS                     0.0      2.00     227.0  \n",
       "Power factor             1.0      1.00      73.2  \n",
       "Interfacial V           39.0     44.00      57.0  \n",
       "Dielectric rigidity     54.0     56.00      75.0  \n",
       "Water content           12.0     21.00     183.0  \n",
       "Health index            13.4     38.55      95.2  \n",
       "Life expectation        32.0     51.00      51.0  "
      ]
     },
     "execution_count": 94,
     "metadata": {},
     "output_type": "execute_result"
    }
   ],
   "source": [
    "df.describe().T"
   ]
  },
  {
   "cell_type": "code",
   "execution_count": 137,
   "id": "western-wiring",
   "metadata": {
    "ExecuteTime": {
     "end_time": "2021-08-12T19:46:57.776156Z",
     "start_time": "2021-08-12T19:46:57.771288Z"
    }
   },
   "outputs": [],
   "source": [
    "def cor(x):\n",
    "    if x < 5:\n",
    "        x = 1\n",
    "    else:\n",
    "        x =0\n",
    "    return x"
   ]
  },
  {
   "cell_type": "code",
   "execution_count": 138,
   "id": "naughty-certificate",
   "metadata": {
    "ExecuteTime": {
     "end_time": "2021-08-12T19:46:57.996058Z",
     "start_time": "2021-08-12T19:46:57.986972Z"
    }
   },
   "outputs": [],
   "source": [
    "df = df[(np.abs(stats.zscore(df)) < 3).all(axis=1)]\n",
    "df['Ethylene'] = df['Ethylene'].apply(cor)"
   ]
  },
  {
   "cell_type": "code",
   "execution_count": 139,
   "id": "damaged-worcester",
   "metadata": {
    "ExecuteTime": {
     "end_time": "2021-08-12T19:46:58.215938Z",
     "start_time": "2021-08-12T19:46:58.208986Z"
    }
   },
   "outputs": [],
   "source": [
    "def car(x):\n",
    "    if x > 60:\n",
    "        x = 1\n",
    "    elif x > 10:\n",
    "        x = 2\n",
    "    else:\n",
    "        x =0\n",
    "    return x"
   ]
  },
  {
   "cell_type": "code",
   "execution_count": 140,
   "id": "ordered-frank",
   "metadata": {
    "ExecuteTime": {
     "end_time": "2021-08-12T19:46:58.423339Z",
     "start_time": "2021-08-12T19:46:58.411307Z"
    }
   },
   "outputs": [],
   "source": [
    "df = df[(np.abs(stats.zscore(df)) < 3).all(axis=1)]\n",
    "df['Ethane'] = df['Ethane'].apply(cor)"
   ]
  },
  {
   "cell_type": "code",
   "execution_count": 141,
   "id": "effective-anaheim",
   "metadata": {
    "ExecuteTime": {
     "end_time": "2021-08-12T19:46:58.676247Z",
     "start_time": "2021-08-12T19:46:58.661727Z"
    }
   },
   "outputs": [
    {
     "data": {
      "text/plain": [
       "Index(['Hydrogen', 'Oxigen', 'Nitrogen', 'Methane', 'CO', 'CO2', 'Ethylene',\n",
       "       'Ethane', 'Acethylene', 'DBDS', 'Power factor', 'Interfacial V',\n",
       "       'Dielectric rigidity', 'Water content', 'Health index',\n",
       "       'Life expectation'],\n",
       "      dtype='object')"
      ]
     },
     "execution_count": 141,
     "metadata": {},
     "output_type": "execute_result"
    }
   ],
   "source": [
    "df.columns"
   ]
  },
  {
   "cell_type": "code",
   "execution_count": 142,
   "id": "acting-scotland",
   "metadata": {
    "ExecuteTime": {
     "end_time": "2021-08-12T19:46:58.875318Z",
     "start_time": "2021-08-12T19:46:58.864196Z"
    }
   },
   "outputs": [],
   "source": [
    "df = df[[\n",
    "    'Hydrogen', 'Oxigen', 'Nitrogen', 'Methane', 'CO', 'CO2', 'Ethylene',\n",
    "    'Ethane', 'Interfacial V', 'Dielectric rigidity', 'Water content',\n",
    "    'Health index', 'Life expectation'\n",
    "]]"
   ]
  },
  {
   "cell_type": "code",
   "execution_count": 143,
   "id": "restricted-stupid",
   "metadata": {
    "ExecuteTime": {
     "end_time": "2021-08-12T19:46:59.087745Z",
     "start_time": "2021-08-12T19:46:59.077647Z"
    }
   },
   "outputs": [
    {
     "data": {
      "text/plain": [
       "Index(['Hydrogen', 'Oxigen', 'Nitrogen', 'Methane', 'CO', 'CO2', 'Ethylene',\n",
       "       'Ethane', 'Interfacial V', 'Dielectric rigidity', 'Water content',\n",
       "       'Health index', 'Life expectation'],\n",
       "      dtype='object')"
      ]
     },
     "execution_count": 143,
     "metadata": {},
     "output_type": "execute_result"
    }
   ],
   "source": [
    "df.columns"
   ]
  },
  {
   "cell_type": "code",
   "execution_count": 144,
   "id": "worst-washington",
   "metadata": {
    "ExecuteTime": {
     "end_time": "2021-08-12T19:46:59.346906Z",
     "start_time": "2021-08-12T19:46:59.338713Z"
    }
   },
   "outputs": [
    {
     "data": {
      "text/plain": [
       "array([1, 0])"
      ]
     },
     "execution_count": 144,
     "metadata": {},
     "output_type": "execute_result"
    }
   ],
   "source": [
    "df['Ethane'].unique()"
   ]
  },
  {
   "cell_type": "code",
   "execution_count": 145,
   "id": "confident-premium",
   "metadata": {
    "ExecuteTime": {
     "end_time": "2021-08-12T19:46:59.989587Z",
     "start_time": "2021-08-12T19:46:59.555026Z"
    }
   },
   "outputs": [
    {
     "data": {
      "text/plain": [
       "Text(0.5, 1.0, 'Variable Original')"
      ]
     },
     "execution_count": 145,
     "metadata": {},
     "output_type": "execute_result"
    },
    {
     "data": {
      "image/png": "[encoded data removed]",
      "text/plain": [
       "<Figure size 1440x720 with 2 Axes>"
      ]
     },
     "metadata": {
      "needs_background": "light"
     },
     "output_type": "display_data"
    }
   ],
   "source": [
    "fig, axes = plt.subplots(1,2,figsize = (20,10))\n",
    "plt.subplots_adjust(hspace=0.3)\n",
    "fig.subplots_adjust(hspace=.2)\n",
    "\n",
    "sns.boxplot(df['Water content'], ax = axes[0])\n",
    "axes[0].set_title('Variable Original')\n",
    "\n",
    "plot = df['Ethane'].value_counts().plot(kind='pie', autopct='%.2f')\n",
    "axes[1].set_title('Variable Original')"
   ]
  },
  {
   "cell_type": "code",
   "execution_count": 152,
   "id": "political-relaxation",
   "metadata": {
    "ExecuteTime": {
     "end_time": "2021-08-12T19:49:45.651061Z",
     "start_time": "2021-08-12T19:49:44.380765Z"
    }
   },
   "outputs": [
    {
     "data": {
      "text/plain": [
       "Text(0.5, 1.0, 'Variable Original')"
      ]
     },
     "execution_count": 152,
     "metadata": {},
     "output_type": "execute_result"
    },
    {
     "data": {
      "image/png": "[encoded data removed]",
      "text/plain": [
       "<Figure size 1440x720 with 2 Axes>"
      ]
     },
     "metadata": {
      "needs_background": "light"
     },
     "output_type": "display_data"
    }
   ],
   "source": [
    "fig, axes = plt.subplots(1,2,figsize = (20,10))\n",
    "plt.subplots_adjust(hspace=0.3)\n",
    "fig.subplots_adjust(hspace=.2)\n",
    "\n",
    "sns.histplot(df['Life expectation'], ax = axes[0], bins = 15)\n",
    "axes[0].set_title('Variable Original')\n",
    "\n",
    "sns.histplot(df['Oxigen'], ax = axes[1], bins = 100)\n",
    "axes[1].set_title('Variable Original')"
   ]
  },
  {
   "cell_type": "code",
   "execution_count": null,
   "id": "excellent-liberal",
   "metadata": {},
   "outputs": [],
   "source": []
  }
 ],
 "metadata": {
  "hide_input": false,
  "kernelspec": {
   "display_name": "Python 3",
   "language": "python",
   "name": "python3"
  },
  "language_info": {
   "codemirror_mode": {
    "name": "ipython",
    "version": 3
   },
   "file_extension": ".py",
   "mimetype": "text/x-python",
   "name": "python",
   "nbconvert_exporter": "python",
   "pygments_lexer": "ipython3",
   "version": "3.8.5"
  },
  "toc": {
   "base_numbering": 1,
   "nav_menu": {},
   "number_sections": false,
   "sideBar": true,
   "skip_h1_title": false,
   "title_cell": "Table of Contents",
   "title_sidebar": "Contents",
   "toc_cell": false,
   "toc_position": {},
   "toc_section_display": true,
   "toc_window_display": false
  },
  "varInspector": {
   "cols": {
    "lenName": 16,
    "lenType": 16,
    "lenVar": 40
   },
   "kernels_config": {
    "python": {
     "delete_cmd_postfix": "",
     "delete_cmd_prefix": "del ",
     "library": "var_list.py",
     "varRefreshCmd": "print(var_dic_list())"
    },
    "r": {
     "delete_cmd_postfix": ") ",
     "delete_cmd_prefix": "rm(",
     "library": "var_list.r",
     "varRefreshCmd": "cat(var_dic_list()) "
    }
   },
   "types_to_exclude": [
    "module",
    "function",
    "builtin_function_or_method",
    "instance",
    "_Feature"
   ],
   "window_display": false
  }
 },
 "nbformat": 4,
 "nbformat_minor": 5
}
